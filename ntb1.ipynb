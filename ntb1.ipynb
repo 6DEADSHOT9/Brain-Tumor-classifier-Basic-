{
 "cells": [
  {
   "cell_type": "code",
   "execution_count": null,
   "metadata": {},
   "outputs": [],
   "source": [
    "import tensorflow as tf\n",
    "import numpy as np\n",
    "import matplotlib.pyplot as plt\n",
    "import os"
   ]
  },
  {
   "cell_type": "code",
   "execution_count": null,
   "metadata": {},
   "outputs": [],
   "source": [
    "data_dir = 'Data'\n",
    "data_arr_all = []\n",
    "for i in os.listdir(os.path.join(data_dir)):\n",
    "    for ii in os.listdir(os.path.join(data_dir, i)):\n",
    "        print(os.path.join(data_dir, i, ii))\n",
    "        data_arr_all.append(os.path.join(data_dir, i, ii))"
   ]
  },
  {
   "cell_type": "code",
   "execution_count": 9,
   "metadata": {},
   "outputs": [],
   "source": [
    "# Shuffle Data\n",
    "np.random.shuffle(data_arr_all)"
   ]
  },
  {
   "cell_type": "code",
   "execution_count": null,
   "metadata": {},
   "outputs": [],
   "source": [
    "print(data_arr_all)"
   ]
  },
  {
   "cell_type": "code",
   "execution_count": null,
   "metadata": {},
   "outputs": [],
   "source": [
    "# Divide data into train, test and cross validation\n",
    "train_data = data_arr_all[:int(len(data_arr_all)*0.7)]\n",
    "cross_validation_data = data_arr_all[int(len(data_arr_all)*0.7):int(len(data_arr_all)*0.85)]\n",
    "test_data = data_arr_all[int(len(data_arr_all)*0.85):]\n",
    "print(train_data)\n",
    "print(cross_validation_data)\n",
    "print(test_data)"
   ]
  },
  {
   "cell_type": "code",
   "execution_count": null,
   "metadata": {},
   "outputs": [],
   "source": []
  }
 ],
 "metadata": {
  "kernelspec": {
   "display_name": "Python 3.10.8 64-bit (microsoft store)",
   "language": "python",
   "name": "python3"
  },
  "language_info": {
   "codemirror_mode": {
    "name": "ipython",
    "version": 3
   },
   "file_extension": ".py",
   "mimetype": "text/x-python",
   "name": "python",
   "nbconvert_exporter": "python",
   "pygments_lexer": "ipython3",
   "version": "3.10.9"
  },
  "orig_nbformat": 4,
  "vscode": {
   "interpreter": {
    "hash": "781f655580259c241e327a73af8e11047011e021c540c85c12852d5a201d19fc"
   }
  }
 },
 "nbformat": 4,
 "nbformat_minor": 2
}
